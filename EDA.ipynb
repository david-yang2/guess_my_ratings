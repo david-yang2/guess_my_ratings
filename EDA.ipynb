{
 "cells": [
  {
   "cell_type": "code",
   "execution_count": 16,
   "metadata": {},
   "outputs": [],
   "source": [
    "import numpy as np\n",
    "import pandas as pd\n",
    "import matplotlib.pyplot as plt\n",
    "import datetime"
   ]
  },
  {
   "cell_type": "code",
   "execution_count": null,
   "metadata": {},
   "outputs": [],
   "source": []
  },
  {
   "cell_type": "code",
   "execution_count": null,
   "metadata": {},
   "outputs": [],
   "source": []
  },
  {
   "cell_type": "code",
   "execution_count": 6,
   "metadata": {},
   "outputs": [],
   "source": [
    "data = pd.read_csv('data/training.csv')"
   ]
  },
  {
   "cell_type": "code",
   "execution_count": 8,
   "metadata": {},
   "outputs": [
    {
     "data": {
      "text/html": [
       "<div>\n",
       "<style scoped>\n",
       "    .dataframe tbody tr th:only-of-type {\n",
       "        vertical-align: middle;\n",
       "    }\n",
       "\n",
       "    .dataframe tbody tr th {\n",
       "        vertical-align: top;\n",
       "    }\n",
       "\n",
       "    .dataframe thead th {\n",
       "        text-align: right;\n",
       "    }\n",
       "</style>\n",
       "<table border=\"1\" class=\"dataframe\">\n",
       "  <thead>\n",
       "    <tr style=\"text-align: right;\">\n",
       "      <th></th>\n",
       "      <th>user</th>\n",
       "      <th>movie</th>\n",
       "      <th>rating</th>\n",
       "      <th>timestamp</th>\n",
       "    </tr>\n",
       "  </thead>\n",
       "  <tbody>\n",
       "    <tr>\n",
       "      <th>0</th>\n",
       "      <td>6040</td>\n",
       "      <td>858</td>\n",
       "      <td>4</td>\n",
       "      <td>956703932</td>\n",
       "    </tr>\n",
       "    <tr>\n",
       "      <th>1</th>\n",
       "      <td>6040</td>\n",
       "      <td>593</td>\n",
       "      <td>5</td>\n",
       "      <td>956703954</td>\n",
       "    </tr>\n",
       "  </tbody>\n",
       "</table>\n",
       "</div>"
      ],
      "text/plain": [
       "   user  movie  rating  timestamp\n",
       "0  6040    858       4  956703932\n",
       "1  6040    593       5  956703954"
      ]
     },
     "execution_count": 8,
     "metadata": {},
     "output_type": "execute_result"
    }
   ],
   "source": [
    "data.head(2)"
   ]
  },
  {
   "cell_type": "code",
   "execution_count": 9,
   "metadata": {},
   "outputs": [
    {
     "data": {
      "text/html": [
       "<div>\n",
       "<style scoped>\n",
       "    .dataframe tbody tr th:only-of-type {\n",
       "        vertical-align: middle;\n",
       "    }\n",
       "\n",
       "    .dataframe tbody tr th {\n",
       "        vertical-align: top;\n",
       "    }\n",
       "\n",
       "    .dataframe thead th {\n",
       "        text-align: right;\n",
       "    }\n",
       "</style>\n",
       "<table border=\"1\" class=\"dataframe\">\n",
       "  <thead>\n",
       "    <tr style=\"text-align: right;\">\n",
       "      <th></th>\n",
       "      <th>user</th>\n",
       "      <th>movie</th>\n",
       "      <th>rating</th>\n",
       "      <th>timestamp</th>\n",
       "    </tr>\n",
       "  </thead>\n",
       "  <tbody>\n",
       "    <tr>\n",
       "      <th>count</th>\n",
       "      <td>800000.000000</td>\n",
       "      <td>800000.000000</td>\n",
       "      <td>800000.000000</td>\n",
       "      <td>8.000000e+05</td>\n",
       "    </tr>\n",
       "    <tr>\n",
       "      <th>mean</th>\n",
       "      <td>3403.097837</td>\n",
       "      <td>1849.257256</td>\n",
       "      <td>3.590479</td>\n",
       "      <td>9.683921e+08</td>\n",
       "    </tr>\n",
       "    <tr>\n",
       "      <th>std</th>\n",
       "      <td>1546.589028</td>\n",
       "      <td>1086.852485</td>\n",
       "      <td>1.120376</td>\n",
       "      <td>5.820931e+06</td>\n",
       "    </tr>\n",
       "    <tr>\n",
       "      <th>min</th>\n",
       "      <td>636.000000</td>\n",
       "      <td>1.000000</td>\n",
       "      <td>1.000000</td>\n",
       "      <td>9.567039e+08</td>\n",
       "    </tr>\n",
       "    <tr>\n",
       "      <th>25%</th>\n",
       "      <td>2035.000000</td>\n",
       "      <td>1028.000000</td>\n",
       "      <td>3.000000</td>\n",
       "      <td>9.641524e+08</td>\n",
       "    </tr>\n",
       "    <tr>\n",
       "      <th>50%</th>\n",
       "      <td>3507.000000</td>\n",
       "      <td>1788.000000</td>\n",
       "      <td>4.000000</td>\n",
       "      <td>9.675878e+08</td>\n",
       "    </tr>\n",
       "    <tr>\n",
       "      <th>75%</th>\n",
       "      <td>4695.000000</td>\n",
       "      <td>2750.000000</td>\n",
       "      <td>4.000000</td>\n",
       "      <td>9.746878e+08</td>\n",
       "    </tr>\n",
       "    <tr>\n",
       "      <th>max</th>\n",
       "      <td>6040.000000</td>\n",
       "      <td>3952.000000</td>\n",
       "      <td>5.000000</td>\n",
       "      <td>9.757673e+08</td>\n",
       "    </tr>\n",
       "  </tbody>\n",
       "</table>\n",
       "</div>"
      ],
      "text/plain": [
       "                user          movie         rating     timestamp\n",
       "count  800000.000000  800000.000000  800000.000000  8.000000e+05\n",
       "mean     3403.097837    1849.257256       3.590479  9.683921e+08\n",
       "std      1546.589028    1086.852485       1.120376  5.820931e+06\n",
       "min       636.000000       1.000000       1.000000  9.567039e+08\n",
       "25%      2035.000000    1028.000000       3.000000  9.641524e+08\n",
       "50%      3507.000000    1788.000000       4.000000  9.675878e+08\n",
       "75%      4695.000000    2750.000000       4.000000  9.746878e+08\n",
       "max      6040.000000    3952.000000       5.000000  9.757673e+08"
      ]
     },
     "execution_count": 9,
     "metadata": {},
     "output_type": "execute_result"
    }
   ],
   "source": [
    "data.describe()"
   ]
  },
  {
   "cell_type": "code",
   "execution_count": 10,
   "metadata": {},
   "outputs": [
    {
     "name": "stdout",
     "output_type": "stream",
     "text": [
      "<class 'pandas.core.frame.DataFrame'>\n",
      "RangeIndex: 800000 entries, 0 to 799999\n",
      "Data columns (total 4 columns):\n",
      "user         800000 non-null int64\n",
      "movie        800000 non-null int64\n",
      "rating       800000 non-null int64\n",
      "timestamp    800000 non-null int64\n",
      "dtypes: int64(4)\n",
      "memory usage: 24.4 MB\n"
     ]
    }
   ],
   "source": [
    "data.info()"
   ]
  },
  {
   "cell_type": "code",
   "execution_count": 13,
   "metadata": {},
   "outputs": [
    {
     "data": {
      "text/plain": [
       "1680    1849\n",
       "889     1518\n",
       "4169    1440\n",
       "4277    1407\n",
       "3618    1344\n",
       "1941    1305\n",
       "1150    1298\n",
       "5795    1272\n",
       "4344    1271\n",
       "4510    1240\n",
       "4227    1222\n",
       "3841    1216\n",
       "4508    1164\n",
       "3808    1158\n",
       "5367    1135\n",
       "3539    1078\n",
       "5831    1054\n",
       "2063    1053\n",
       "3224    1034\n",
       "3032    1019\n",
       "5643    1015\n",
       "4064    1009\n",
       "2909    1008\n",
       "4725    1006\n",
       "5954    1000\n",
       "4447     982\n",
       "1285     978\n",
       "1181     970\n",
       "1980     963\n",
       "1880     955\n",
       "        ... \n",
       "1256       6\n",
       "755        6\n",
       "1715       6\n",
       "3532       6\n",
       "1092       6\n",
       "2775       6\n",
       "1539       6\n",
       "973        6\n",
       "2057       5\n",
       "750        5\n",
       "5998       5\n",
       "5291       5\n",
       "1463       5\n",
       "5484       5\n",
       "918        5\n",
       "4744       5\n",
       "4610       5\n",
       "4467       5\n",
       "1447       5\n",
       "827        5\n",
       "4418       5\n",
       "1547       5\n",
       "988        4\n",
       "1551       4\n",
       "3459       4\n",
       "1779       4\n",
       "4273       3\n",
       "3288       3\n",
       "3326       2\n",
       "3038       2\n",
       "Name: user, Length: 5399, dtype: int64"
      ]
     },
     "execution_count": 13,
     "metadata": {},
     "output_type": "execute_result"
    }
   ],
   "source": [
    "data.user.value_counts()"
   ]
  },
  {
   "cell_type": "code",
   "execution_count": 14,
   "metadata": {},
   "outputs": [
    {
     "data": {
      "text/plain": [
       "2858    2901\n",
       "1196    2516\n",
       "260     2515\n",
       "1210    2456\n",
       "589     2284\n",
       "2028    2245\n",
       "480     2232\n",
       "1270    2183\n",
       "2571    2172\n",
       "1580    2156\n",
       "593     2151\n",
       "608     2144\n",
       "1198    2110\n",
       "110     2081\n",
       "2762    2024\n",
       "2396    1995\n",
       "1197    1947\n",
       "527     1934\n",
       "1617    1929\n",
       "1097    1910\n",
       "2628    1902\n",
       "2997    1899\n",
       "1265    1882\n",
       "858     1873\n",
       "318     1845\n",
       "2716    1834\n",
       "356     1818\n",
       "296     1803\n",
       "1240    1770\n",
       "1       1749\n",
       "        ... \n",
       "1709       1\n",
       "684        1\n",
       "3376       1\n",
       "3377       1\n",
       "642        1\n",
       "2742       1\n",
       "3779       1\n",
       "641        1\n",
       "834        1\n",
       "706        1\n",
       "3904       1\n",
       "607        1\n",
       "3651       1\n",
       "2308       1\n",
       "579        1\n",
       "1852       1\n",
       "127        1\n",
       "1630       1\n",
       "1851       1\n",
       "1118       1\n",
       "827        1\n",
       "3899       1\n",
       "1724       1\n",
       "2235       1\n",
       "2584       1\n",
       "1134       1\n",
       "3382       1\n",
       "3607       1\n",
       "1558       1\n",
       "1908       1\n",
       "Name: movie, Length: 3662, dtype: int64"
      ]
     },
     "execution_count": 14,
     "metadata": {},
     "output_type": "execute_result"
    }
   ],
   "source": [
    "data.movie.value_counts()"
   ]
  },
  {
   "cell_type": "code",
   "execution_count": 17,
   "metadata": {},
   "outputs": [],
   "source": [
    "data.timestamp = pd.to_datetime(data.timestamp)"
   ]
  },
  {
   "cell_type": "code",
   "execution_count": 20,
   "metadata": {},
   "outputs": [
    {
     "data": {
      "text/plain": [
       "Timestamp('1970-01-01 00:00:00.956731215')"
      ]
     },
     "execution_count": 20,
     "metadata": {},
     "output_type": "execute_result"
    }
   ],
   "source": [
    "data.timestamp[2000]"
   ]
  },
  {
   "cell_type": "code",
   "execution_count": null,
   "metadata": {},
   "outputs": [],
   "source": []
  }
 ],
 "metadata": {
  "kernelspec": {
   "display_name": "Python 3",
   "language": "python",
   "name": "python3"
  },
  "language_info": {
   "codemirror_mode": {
    "name": "ipython",
    "version": 3
   },
   "file_extension": ".py",
   "mimetype": "text/x-python",
   "name": "python",
   "nbconvert_exporter": "python",
   "pygments_lexer": "ipython3",
   "version": "3.6.8"
  }
 },
 "nbformat": 4,
 "nbformat_minor": 2
}
